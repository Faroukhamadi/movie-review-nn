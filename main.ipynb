{
 "cells": [
  {
   "cell_type": "code",
   "execution_count": 66,
   "id": "f609bee8",
   "metadata": {},
   "outputs": [],
   "source": [
    "import tensorflow as tf\n",
    "import os\n",
    "from pathlib import Path"
   ]
  },
  {
   "cell_type": "code",
   "execution_count": 67,
   "id": "5a4d81b7",
   "metadata": {},
   "outputs": [],
   "source": [
    "train_path = Path() / 'aclImdb' / 'train'\n",
    "test_path = Path() / 'aclImdb' / 'test'"
   ]
  },
  {
   "cell_type": "code",
   "execution_count": 68,
   "id": "07009463",
   "metadata": {},
   "outputs": [
    {
     "name": "stdout",
     "output_type": "stream",
     "text": [
      "Unsupervised dataset does not exist\n"
     ]
    }
   ],
   "source": [
    "unsupervised_path = train_path / 'unsup'\n",
    "if os.path.exists(unsupervised_path):\n",
    "    for file in os.listdir(unsupervised_path):\n",
    "        file_path = unsupervised_path / file\n",
    "        os.remove(file_path)\n",
    "    os.rmdir(unsupervised_path)\n",
    "    print('Unsupervised dataset removed')\n",
    "else:\n",
    "    print('Unsupervised dataset does not exist')    "
   ]
  },
  {
   "cell_type": "code",
   "execution_count": 69,
   "id": "bb8e8983",
   "metadata": {},
   "outputs": [
    {
     "name": "stdout",
     "output_type": "stream",
     "text": [
      "Found 25000 files belonging to 2 classes.\n"
     ]
    }
   ],
   "source": [
    "train_ds = tf.keras.utils.text_dataset_from_directory(\n",
    "    train_path,\n",
    "    batch_size=32,\n",
    "    seed=42,\n",
    ")"
   ]
  },
  {
   "cell_type": "code",
   "execution_count": 70,
   "id": "eb625cec",
   "metadata": {
    "scrolled": true
   },
   "outputs": [
    {
     "name": "stdout",
     "output_type": "stream",
     "text": [
      "Label 0 corresponds to neg\n",
      "Label 1 corresponds to pos\n"
     ]
    }
   ],
   "source": [
    "for i, label in enumerate(train_ds.class_names):\n",
    "    print(\"Label\", i, \"corresponds to\", label)"
   ]
  },
  {
   "cell_type": "code",
   "execution_count": 71,
   "id": "2ca52b36",
   "metadata": {},
   "outputs": [
    {
     "name": "stdout",
     "output_type": "stream",
     "text": [
      "Found 25000 files belonging to 2 classes.\n",
      "Using 10000 files for training.\n",
      "Using 15000 files for validation.\n"
     ]
    }
   ],
   "source": [
    "(test_ds, val_ds) = tf.keras.utils.text_dataset_from_directory(\n",
    "    test_path,\n",
    "    batch_size=32,\n",
    "    validation_split=0.6,\n",
    "    subset='both',\n",
    "    seed=42,\n",
    ")"
   ]
  },
  {
   "cell_type": "code",
   "execution_count": 72,
   "id": "8b183488",
   "metadata": {
    "scrolled": true
   },
   "outputs": [
    {
     "name": "stdout",
     "output_type": "stream",
     "text": [
      "Label 0 corresponds to neg\n",
      "Label 1 corresponds to pos\n"
     ]
    }
   ],
   "source": [
    "for i, label in enumerate(test_ds.class_names):\n",
    "    print(\"Label\", i, \"corresponds to\", label)"
   ]
  },
  {
   "cell_type": "code",
   "execution_count": 73,
   "id": "0676a27e",
   "metadata": {},
   "outputs": [],
   "source": [
    "vocab_size = 10_000\n",
    "embedding_dim = 16"
   ]
  },
  {
   "cell_type": "code",
   "execution_count": 74,
   "id": "08e19420",
   "metadata": {},
   "outputs": [],
   "source": [
    "vectorize_layer = tf.keras.layers.TextVectorization(max_tokens=vocab_size)\n",
    "text_ds = train_ds.map(lambda x, y: x)\n",
    "vectorize_layer.adapt(text_ds)"
   ]
  },
  {
   "cell_type": "code",
   "execution_count": 75,
   "id": "561c3bf8",
   "metadata": {},
   "outputs": [],
   "source": [
    "model = tf.keras.Sequential([\n",
    "    vectorize_layer,\n",
    "    tf.keras.layers.Embedding(vocab_size, embedding_dim),\n",
    "    tf.keras.layers.GlobalAveragePooling1D(),\n",
    "    tf.keras.layers.Dense(10, activation='relu'),\n",
    "    tf.keras.layers.Dense(1)\n",
    "])"
   ]
  },
  {
   "cell_type": "code",
   "execution_count": 76,
   "id": "eb58b078",
   "metadata": {},
   "outputs": [],
   "source": [
    "model.compile(optimizer='adam',\n",
    "              loss=tf.keras.losses.BinaryCrossentropy(from_logits=True),\n",
    "              metrics=['accuracy'])"
   ]
  },
  {
   "cell_type": "code",
   "execution_count": 23,
   "id": "4e20109d",
   "metadata": {
    "scrolled": true
   },
   "outputs": [
    {
     "name": "stdout",
     "output_type": "stream",
     "text": [
      "Epoch 1/15\n",
      "782/782 [==============================] - 16s 19ms/step - loss: 0.6430 - accuracy: 0.5585 - val_loss: 0.5151 - val_accuracy: 0.7205\n",
      "Epoch 2/15\n",
      "782/782 [==============================] - 8s 10ms/step - loss: 0.3930 - accuracy: 0.8260 - val_loss: 0.3466 - val_accuracy: 0.8366\n",
      "Epoch 3/15\n",
      "782/782 [==============================] - 8s 10ms/step - loss: 0.2914 - accuracy: 0.8810 - val_loss: 0.3131 - val_accuracy: 0.8513\n",
      "Epoch 4/15\n",
      "782/782 [==============================] - 8s 11ms/step - loss: 0.2480 - accuracy: 0.8988 - val_loss: 0.3155 - val_accuracy: 0.8385\n",
      "Epoch 5/15\n",
      "782/782 [==============================] - 8s 10ms/step - loss: 0.2229 - accuracy: 0.9124 - val_loss: 0.2901 - val_accuracy: 0.8713\n",
      "Epoch 6/15\n",
      "782/782 [==============================] - 8s 10ms/step - loss: 0.2019 - accuracy: 0.9212 - val_loss: 0.2862 - val_accuracy: 0.8805\n",
      "Epoch 7/15\n",
      "782/782 [==============================] - 8s 11ms/step - loss: 0.1845 - accuracy: 0.9290 - val_loss: 0.3047 - val_accuracy: 0.8625\n",
      "Epoch 8/15\n",
      "782/782 [==============================] - 9s 11ms/step - loss: 0.1696 - accuracy: 0.9374 - val_loss: 0.2956 - val_accuracy: 0.8877\n",
      "Epoch 9/15\n",
      "782/782 [==============================] - 9s 11ms/step - loss: 0.1562 - accuracy: 0.9415 - val_loss: 0.3050 - val_accuracy: 0.8783\n",
      "Epoch 10/15\n",
      "782/782 [==============================] - 8s 10ms/step - loss: 0.1446 - accuracy: 0.9470 - val_loss: 0.3218 - val_accuracy: 0.8717\n",
      "Epoch 11/15\n",
      "782/782 [==============================] - 8s 10ms/step - loss: 0.1346 - accuracy: 0.9518 - val_loss: 0.3317 - val_accuracy: 0.8693\n",
      "Epoch 12/15\n",
      "782/782 [==============================] - 8s 10ms/step - loss: 0.1250 - accuracy: 0.9553 - val_loss: 0.3629 - val_accuracy: 0.8808\n",
      "Epoch 13/15\n",
      "782/782 [==============================] - 8s 10ms/step - loss: 0.1149 - accuracy: 0.9601 - val_loss: 0.3520 - val_accuracy: 0.8803\n",
      "Epoch 14/15\n",
      "782/782 [==============================] - 8s 11ms/step - loss: 0.1084 - accuracy: 0.9630 - val_loss: 0.3758 - val_accuracy: 0.8819\n",
      "Epoch 15/15\n",
      "782/782 [==============================] - 9s 11ms/step - loss: 0.0999 - accuracy: 0.9677 - val_loss: 0.3887 - val_accuracy: 0.8663\n"
     ]
    },
    {
     "data": {
      "text/plain": [
       "<keras.callbacks.History at 0x249acd53640>"
      ]
     },
     "execution_count": 23,
     "metadata": {},
     "output_type": "execute_result"
    }
   ],
   "source": [
    "model.fit(\n",
    "    train_ds,\n",
    "    validation_data=val_ds,\n",
    "    epochs=15)"
   ]
  },
  {
   "cell_type": "code",
   "execution_count": 78,
   "id": "19bd97ad",
   "metadata": {},
   "outputs": [],
   "source": [
    "import tensorflow_datasets as tfds"
   ]
  },
  {
   "cell_type": "code",
   "execution_count": 79,
   "id": "89b0d388",
   "metadata": {},
   "outputs": [
    {
     "data": {
      "text/plain": [
       "{'train': <_PrefetchDataset element_spec={'label': TensorSpec(shape=(), dtype=tf.int64, name=None), 'text': TensorSpec(shape=(), dtype=tf.string, name=None)}>,\n",
       " 'test': <_PrefetchDataset element_spec={'label': TensorSpec(shape=(), dtype=tf.int64, name=None), 'text': TensorSpec(shape=(), dtype=tf.string, name=None)}>,\n",
       " 'unsupervised': <_PrefetchDataset element_spec={'label': TensorSpec(shape=(), dtype=tf.int64, name=None), 'text': TensorSpec(shape=(), dtype=tf.string, name=None)}>}"
      ]
     },
     "execution_count": 79,
     "metadata": {},
     "output_type": "execute_result"
    }
   ],
   "source": [
    "dataset = tfds.load('imdb_reviews')\n",
    "dataset"
   ]
  },
  {
   "cell_type": "code",
   "execution_count": 80,
   "id": "467fee25",
   "metadata": {},
   "outputs": [],
   "source": [
    "train_ds = dataset['train']\n",
    "full_test_ds = dataset['test']"
   ]
  },
  {
   "cell_type": "markdown",
   "id": "628f210b",
   "metadata": {},
   "source": [
    "# out of the test set we take 80% for validation and 20% for testing"
   ]
  },
  {
   "cell_type": "code",
   "execution_count": 81,
   "id": "e76ab043",
   "metadata": {},
   "outputs": [
    {
     "data": {
      "text/plain": [
       "25000"
      ]
     },
     "execution_count": 81,
     "metadata": {},
     "output_type": "execute_result"
    }
   ],
   "source": [
    "len(full_test_ds)"
   ]
  },
  {
   "cell_type": "code",
   "execution_count": 82,
   "id": "1a6ce371",
   "metadata": {},
   "outputs": [],
   "source": [
    "test_ratio = 0.2\n",
    "\n",
    "test_len = int(len(full_test_ds) * test_ratio)\n",
    "\n",
    "test_dataset = full_test_ds.take(test_len)\n",
    "val_dataset = full_test_ds.skip(test_len)"
   ]
  },
  {
   "cell_type": "code",
   "execution_count": 83,
   "id": "feea89a8",
   "metadata": {},
   "outputs": [
    {
     "data": {
      "text/plain": [
       "5000"
      ]
     },
     "execution_count": 83,
     "metadata": {},
     "output_type": "execute_result"
    }
   ],
   "source": [
    "len(test_dataset)"
   ]
  },
  {
   "cell_type": "code",
   "execution_count": 84,
   "id": "a79a3d75",
   "metadata": {},
   "outputs": [
    {
     "data": {
      "text/plain": [
       "20000"
      ]
     },
     "execution_count": 84,
     "metadata": {},
     "output_type": "execute_result"
    }
   ],
   "source": [
    "len(val_dataset)"
   ]
  },
  {
   "cell_type": "code",
   "execution_count": 86,
   "id": "81f99266",
   "metadata": {
    "scrolled": true
   },
   "outputs": [
    {
     "name": "stdout",
     "output_type": "stream",
     "text": [
      "Epoch 1/15\n"
     ]
    },
    {
     "ename": "ValueError",
     "evalue": "in user code:\n\n    File \"C:\\Users\\farou\\AppData\\Local\\Programs\\Python\\Python310\\lib\\site-packages\\keras\\engine\\training.py\", line 1284, in train_function  *\n        return step_function(self, iterator)\n    File \"C:\\Users\\farou\\AppData\\Local\\Programs\\Python\\Python310\\lib\\site-packages\\keras\\engine\\training.py\", line 1268, in step_function  **\n        outputs = model.distribute_strategy.run(run_step, args=(data,))\n    File \"C:\\Users\\farou\\AppData\\Local\\Programs\\Python\\Python310\\lib\\site-packages\\keras\\engine\\training.py\", line 1249, in run_step  **\n        outputs = model.train_step(data)\n    File \"C:\\Users\\farou\\AppData\\Local\\Programs\\Python\\Python310\\lib\\site-packages\\keras\\engine\\training.py\", line 1050, in train_step\n        y_pred = self(x, training=True)\n    File \"C:\\Users\\farou\\AppData\\Local\\Programs\\Python\\Python310\\lib\\site-packages\\keras\\utils\\traceback_utils.py\", line 70, in error_handler\n        raise e.with_traceback(filtered_tb) from None\n    File \"C:\\Users\\farou\\AppData\\Local\\Programs\\Python\\Python310\\lib\\site-packages\\keras\\engine\\input_spec.py\", line 197, in assert_input_compatibility\n        raise ValueError(\n\n    ValueError: Missing data for input \"text_vectorization_7_input\". You passed a data dictionary with keys ['label', 'text']. Expected the following keys: ['text_vectorization_7_input']\n",
     "output_type": "error",
     "traceback": [
      "\u001b[1;31m---------------------------------------------------------------------------\u001b[0m",
      "\u001b[1;31mValueError\u001b[0m                                Traceback (most recent call last)",
      "Input \u001b[1;32mIn [86]\u001b[0m, in \u001b[0;36m<cell line: 1>\u001b[1;34m()\u001b[0m\n\u001b[1;32m----> 1\u001b[0m \u001b[43mmodel\u001b[49m\u001b[38;5;241;43m.\u001b[39;49m\u001b[43mfit\u001b[49m\u001b[43m(\u001b[49m\n\u001b[0;32m      2\u001b[0m \u001b[43m    \u001b[49m\u001b[43mtrain_ds\u001b[49m\u001b[43m,\u001b[49m\n\u001b[0;32m      3\u001b[0m \u001b[43m    \u001b[49m\u001b[43mvalidation_data\u001b[49m\u001b[38;5;241;43m=\u001b[39;49m\u001b[43mval_dataset\u001b[49m\u001b[43m,\u001b[49m\n\u001b[0;32m      4\u001b[0m \u001b[43m    \u001b[49m\u001b[43mepochs\u001b[49m\u001b[38;5;241;43m=\u001b[39;49m\u001b[38;5;241;43m15\u001b[39;49m\u001b[43m)\u001b[49m\n",
      "File \u001b[1;32m~\\AppData\\Local\\Programs\\Python\\Python310\\lib\\site-packages\\keras\\utils\\traceback_utils.py:70\u001b[0m, in \u001b[0;36mfilter_traceback.<locals>.error_handler\u001b[1;34m(*args, **kwargs)\u001b[0m\n\u001b[0;32m     67\u001b[0m     filtered_tb \u001b[38;5;241m=\u001b[39m _process_traceback_frames(e\u001b[38;5;241m.\u001b[39m__traceback__)\n\u001b[0;32m     68\u001b[0m     \u001b[38;5;66;03m# To get the full stack trace, call:\u001b[39;00m\n\u001b[0;32m     69\u001b[0m     \u001b[38;5;66;03m# `tf.debugging.disable_traceback_filtering()`\u001b[39;00m\n\u001b[1;32m---> 70\u001b[0m     \u001b[38;5;28;01mraise\u001b[39;00m e\u001b[38;5;241m.\u001b[39mwith_traceback(filtered_tb) \u001b[38;5;28;01mfrom\u001b[39;00m \u001b[38;5;28mNone\u001b[39m\n\u001b[0;32m     71\u001b[0m \u001b[38;5;28;01mfinally\u001b[39;00m:\n\u001b[0;32m     72\u001b[0m     \u001b[38;5;28;01mdel\u001b[39;00m filtered_tb\n",
      "File \u001b[1;32m~\\AppData\\Local\\Temp\\__autograph_generated_fileryhil6z_.py:15\u001b[0m, in \u001b[0;36mouter_factory.<locals>.inner_factory.<locals>.tf__train_function\u001b[1;34m(iterator)\u001b[0m\n\u001b[0;32m     13\u001b[0m \u001b[38;5;28;01mtry\u001b[39;00m:\n\u001b[0;32m     14\u001b[0m     do_return \u001b[38;5;241m=\u001b[39m \u001b[38;5;28;01mTrue\u001b[39;00m\n\u001b[1;32m---> 15\u001b[0m     retval_ \u001b[38;5;241m=\u001b[39m ag__\u001b[38;5;241m.\u001b[39mconverted_call(ag__\u001b[38;5;241m.\u001b[39mld(step_function), (ag__\u001b[38;5;241m.\u001b[39mld(\u001b[38;5;28mself\u001b[39m), ag__\u001b[38;5;241m.\u001b[39mld(iterator)), \u001b[38;5;28;01mNone\u001b[39;00m, fscope)\n\u001b[0;32m     16\u001b[0m \u001b[38;5;28;01mexcept\u001b[39;00m:\n\u001b[0;32m     17\u001b[0m     do_return \u001b[38;5;241m=\u001b[39m \u001b[38;5;28;01mFalse\u001b[39;00m\n",
      "\u001b[1;31mValueError\u001b[0m: in user code:\n\n    File \"C:\\Users\\farou\\AppData\\Local\\Programs\\Python\\Python310\\lib\\site-packages\\keras\\engine\\training.py\", line 1284, in train_function  *\n        return step_function(self, iterator)\n    File \"C:\\Users\\farou\\AppData\\Local\\Programs\\Python\\Python310\\lib\\site-packages\\keras\\engine\\training.py\", line 1268, in step_function  **\n        outputs = model.distribute_strategy.run(run_step, args=(data,))\n    File \"C:\\Users\\farou\\AppData\\Local\\Programs\\Python\\Python310\\lib\\site-packages\\keras\\engine\\training.py\", line 1249, in run_step  **\n        outputs = model.train_step(data)\n    File \"C:\\Users\\farou\\AppData\\Local\\Programs\\Python\\Python310\\lib\\site-packages\\keras\\engine\\training.py\", line 1050, in train_step\n        y_pred = self(x, training=True)\n    File \"C:\\Users\\farou\\AppData\\Local\\Programs\\Python\\Python310\\lib\\site-packages\\keras\\utils\\traceback_utils.py\", line 70, in error_handler\n        raise e.with_traceback(filtered_tb) from None\n    File \"C:\\Users\\farou\\AppData\\Local\\Programs\\Python\\Python310\\lib\\site-packages\\keras\\engine\\input_spec.py\", line 197, in assert_input_compatibility\n        raise ValueError(\n\n    ValueError: Missing data for input \"text_vectorization_7_input\". You passed a data dictionary with keys ['label', 'text']. Expected the following keys: ['text_vectorization_7_input']\n"
     ]
    }
   ],
   "source": [
    "model.fit(\n",
    "    train_ds,\n",
    "    validation_data=val_dataset,\n",
    "    epochs=15)"
   ]
  },
  {
   "cell_type": "code",
   "execution_count": 87,
   "id": "de561940",
   "metadata": {},
   "outputs": [
    {
     "data": {
      "text/plain": [
       "<_PrefetchDataset element_spec={'label': TensorSpec(shape=(), dtype=tf.int64, name=None), 'text': TensorSpec(shape=(), dtype=tf.string, name=None)}>"
      ]
     },
     "execution_count": 87,
     "metadata": {},
     "output_type": "execute_result"
    }
   ],
   "source": [
    "train_ds"
   ]
  },
  {
   "cell_type": "code",
   "execution_count": 108,
   "id": "aa3ad6c3",
   "metadata": {},
   "outputs": [
    {
     "ename": "TypeError",
     "evalue": "'builtin_function_or_method' object is not iterable",
     "output_type": "error",
     "traceback": [
      "\u001b[1;31m---------------------------------------------------------------------------\u001b[0m",
      "\u001b[1;31mTypeError\u001b[0m                                 Traceback (most recent call last)",
      "Input \u001b[1;32mIn [108]\u001b[0m, in \u001b[0;36m<cell line: 1>\u001b[1;34m()\u001b[0m\n\u001b[0;32m      1\u001b[0m \u001b[38;5;28;01mfor\u001b[39;00m x \u001b[38;5;129;01min\u001b[39;00m val_dataset:\n\u001b[1;32m----> 2\u001b[0m     \u001b[38;5;28mprint\u001b[39m(\u001b[38;5;28;43mtuple\u001b[39;49m\u001b[43m(\u001b[49m\u001b[43mx\u001b[49m\u001b[38;5;241;43m.\u001b[39;49m\u001b[43mvalues\u001b[49m\u001b[43m)\u001b[49m)\n\u001b[0;32m      3\u001b[0m     \u001b[38;5;28;01mraise\u001b[39;00m \u001b[38;5;167;01mException\u001b[39;00m()\n",
      "\u001b[1;31mTypeError\u001b[0m: 'builtin_function_or_method' object is not iterable"
     ]
    }
   ],
   "source": [
    "for x in val_dataset:\n",
    "    print(tuple(x.values))\n",
    "    raise Exception()"
   ]
  },
  {
   "cell_type": "code",
   "execution_count": 106,
   "id": "f12c4240",
   "metadata": {},
   "outputs": [
    {
     "name": "stdout",
     "output_type": "stream",
     "text": [
      "(<tf.Tensor: shape=(32,), dtype=string, numpy=\n",
      "array([b'I don\\'t know why all of the critics say this was a bad movie, this is one of my all-time favorite movies. Tommy (Chris Farley) and Richard (David Spade) are a great match. Tommy is the stupid one who spent seven years in college, finally passing with a D+. Richard is the smart kid who was hated by everyone in school. How can you not laugh when the two of them are singing \"Superstar\" by The Carpenters passionatly and all of a sudden the hood pops up? In all this is a great movie, I recommend it.',\n",
      "       b'Do you ever wonder what is the worst movie ever made? Stop wondering. I\\'m telling you, Michael is it!<br /><br />It is not \"heartwarming,\" \"entertaining,\" or \"Travolta at his best.\" It just sucks. If I had kids, I would let them watch Deep Throat before Michael!<br /><br />A sold-out John Travolta, a washed-up and balding William Hurt, and an about to die any time now Jean Stapleton highlight this turd of a film.<br /><br />But wait...you\\'ll get to hear Andie McDowell sing! Yeah. Hollywood really s**t all over us with this one!',\n",
      "       b\"Some ugly weirdo who had three families, cheated on and neglected all of them, built ugly useless buildings all over which are now unappreciated and crumbling. His bastard half-Jew son runs around interviewing random Jewish senile people who we care nothing about and shows his dreadful narrating and writing skills while tragic piano music plays. This goes on for almost two boring hours and amounts to nothing.<br /><br />All you shallow hippie people who watch these stupid documentaries, eating salads and yogurt, think all this crap is so important. It's not. Save the whales. No one cares.\",\n",
      "       b\"I really like Traci Lords. She may not be the greatest actress in the world but she's rather good in this. She play the dowdy, conservative, reporter to a 'T'. It's a great little thriller which keeps you guessing for a good while. Jeff Fahey is also good as Traci's boss. I think given a decent break Traci could be a top actress. She's certainly no worse than some of today's leading ladies.\",\n",
      "       b\"Betty is an understudy for the lead in a production of Verdi's Macbeth. When a car mysteriously hits the lead, Betty is thrust into the spotlight. Opening night is a smashing success and Betty decides to leave the after-party to celebrate in private with her boyfriend. But when the boyfriend leaves the room, Betty is grabbed from behind by an unknown black-gloved, masked figure. The unknown assailant ties Betty to a column, gags her, and places needles under her eyes that will cause incredible damage and pain should Betty close them. The boyfriend returns to the room and is stunned to see Betty in such a predicament. He's even more shocked when the killer grabs him and shoves a knife through his lower jaw with such force, the tip of the knife can clearly be seen in his mouth. And Betty has been forced to watch all of this. So begins Betty's terrifying ordeal with a killer not just intent on hurting her, but also on forcing her to watch as he mutilates her friends.<br /><br />Opera gets classified as a Giallo, but to me, it differs in quite a few ways from the model. Less emphasis is placed on the mystery elements of the story than in something like Argento's Tenebre or The Bird with the Crystal Plumage. The black-gloved, masked killer may be omnipresent, but the clues and red herrings normally associated with a good Giallo are absent. Instead, Opera is all about the tension of an unknown killer and making the audience uncomfortable. The focus is on the grisly death scenes, Betty's fear, and the killer's obsession with Betty.<br /><br />Opera features what I think are some of Argento most artistic death scenes. When the killer grabs Betty after her boyfriend leaves the room, you're sure that Betty's had it. But the sadistic killer only wants to force Betty to watch as he brutally stabs her lover in the neck \\xc2\\x96 the knife emerging in his mouth. It's a well shot and designed scene. And those needles in the eyes \\xc2\\x96 brilliant. Or, take the death of the seamstress. At first her death seems like an ordinary, run-of-the-mill murder. But when the seamstress accidentally swallows the killer's locket, what started out as just another death scene turns it up a notch as the killer uses a pair of scissors to cut the girl's throat open to get his chain. Finally, there's the most famous death scene in Opera that I'm amazed with each time I see it \\xc2\\x96 Mira is shot in the eye while peering through a keyhole. That scene displays a lot of what I like about Argento. It's got style to burn. As implausible as it may be, it's creative, memorable, and a blast to watch.<br /><br />Argento certainly wasn't the first Italian director to concentrate on eye mutilation, but in Opera, he's taken eye trauma to a new level. Needles holding eyes open, a bullet in the eye, and ravens pecking out an eye are all part of Argento's vision (pun intended). And these scenes do have the effect that I believe Argento was going for. The first time I saw the killer putting those needles in Betty's eyes, I couldn't stop blinking. It actually had a physical effect on me. What is it about the eyes that make them such a target for abuse in Italian films? <br /><br />To be fair (and not sound like such a fanboy), there are problems I have with Opera that keep me from rating it as Argento's best. One of my problems is with the air duct system running through Betty's apartment building. While I don't doubt there are air duct systems in older apartment buildings that connect the apartments, the ducts in Opera are HUGE. I'm no expert, but I sincerely doubt any building like the one in this movie would have had such mammoth air ducts. It doesn't seem practical at all. And don't you think someone would have done something about them long ago to keep criminals and nosey neighbors out of the other apartments? It's convenient for the plot, but it's not very realistic.<br /><br />But I suppose my major problem with the film comes with the finale. What's up with that ending? It feels totally out of place, tacked on, and like a bad afterthought. I'm not sure what else to say other than it's horrible.\",\n",
      "       b'This film was really different from what I had imagined but exceeded my expectations nevertheless. This film has the exactly right mixture of comedy, drama, political criticism and satire (not necessarily in that order). Without being patronizing or wisenheimer it reveals the open and subtle problems of our capitalist democratic high technology society. It makes you laugh instantly and remain in thought afterwards. For those of you who liked \"wag the dog\" and wished to have humane and manlike politicians this film should definitely be the choice!<br /><br />\"politicians are a lot like diapers: they should be changed frequently and for the same reasons.\"',\n",
      "       b'I have no idea why everyone hates this movie to call it garbage a travesty an unexceptable sequel is just unfair i mean what else could they have made for a sequel then. Cause seriously I think it should have had a sequel (Rodney Dangerfield) says: hey everyone were all going to get laid and then a little dancing goffer and thats it thats the end of Caddyshack even though the film rating on first one was (R) and the second one was (PG) it was still lots of fun .<br /><br />(7/10)',\n",
      "       b'(This review will have some very obvious spoilers, so beware.)<br /><br />A friend brought this over, and we made it through 45 minutes of the movie before we decided that Fast Forward 8x Speed was the only way that this film should be watched. There were points when we were watching the movie at normal speed where I would leave, prepare part of lunch, and return, to find that literally nothing had happened. 2 lines of meaningless dialogue were exchanged. Nothing happened the background, no important facial gestures were made, nothing but mind-numbing awkward silence.<br /><br />This is NOT how to make a thoughtful film, especially when the movie\\'s plot follows all the same basic Hollywood movie tropes. If I told you that Disney was making a film about 4 girls starting a band, and the singer was a French exchange student, what you would expect to be the \"conflicts\" that arise?<br /><br />The lead singer has to overcome stage fright? Someone has an unspoken crush? The band is late for their performance, and a side-character has to buy them time?<br /><br />*SPOILER ALERT*<br /><br />All of those things happen in this movie.<br /><br />At no point in this film do you have even the slightest fraction of concern that these girls won\\'t be able to accomplish their goal.<br /><br />*THIS ENDS THE SECTION OF SPOILERS*<br /><br />I like Japanese films. I\\'ve spent a lot of time in Japan. I work for a Japanese company. Heck, I even know all the bands referenced in the record collections and MDs that they\\'re going through, and I\\'ve sung along to the title track with friends at karaoke.<br /><br />This is probably the worst film from Japan I\\'ve ever seen. Do not be confused. Though the characters will have points in the movie where they do typical Japanese high school things, this is not a \"typical day in the life of\" movie. This is \"a day in the life of 4 extremely random, heavily-conflicted, awkward Japanese students.\"<br /><br />There are noticeable problems with the DVD, as well. Viz decided that a great extra would be a producer reading aloud the Wikipedia entry about the Blue Hearts. What a value! In addition, they care so little about the subtitling that the band\\'s name in the subtitles, \"Paran Maum\" is different than it is in the chapter selection menu, \"Paran Marum\". In the final auditorium scene, there is a VERY visible reflection/ghosting effect on everything, but this seems to be the fault of the original film.<br /><br />2/10, do NOT view if you do not absolutely love awkward silences.',\n",
      "       b\"From the point of budget 2.5m CAD isn't very much when you look at the animatronics, puppetry in this film, that alone being the reason for the 9 week shoot. I was really keen to see this film and had hoped to catch it when it came out, instead got it on DVD recently. My main problem is it's just not funny at all, it's better than Tenacious D which hasn't got a funny bone in it's body. But this was a truly disappointing film.<br /><br />Trevor Matthews is a very strong physically performer, but his acting sucks! Rachel Skarsten gives what is possibly one of the most irritating and none funny performances I have ever seen. The only really BIG star in this is David Scott who's artwork for the monsters is fab! His special effects work is the main reason this film is worth watching, loved the Cyclops and Troll and and the Prof Monster was straight out of the Henson library.<br /><br />If you watch this it won't be the biggest waste of time, but if you are looking to see this for a great Horror Comedy Romp... Don't bother.\",\n",
      "       b\"As I stated earlier this year, in my review of Swordfish (which was scripted by this films writer/director/producer Skip Woods) this is a good film. It ranks very high up there in my crime flick list among Lock Stock & Two Smoking Barrels, Pulp Fiction and Snatch. Basically I think this film is for me what Reservoir Dogs was for many people - a cult classic - although I prefer to compare it with Pulp Fiction. I mean I never liked Tarantino's first effort a lot, but I sure as hell liked this one as much as I like Pulp Fiction, for it simply has everything a classic needs. A great story and good actors. OK the budget might be not as big as in for instance Godzilla, The Avengers of Mission to Mars but it sure as hell beats the living crap out of those films (and numerous others).<br /><br />The story of this film, is about a man named Casey (Thomas Jane), who has settled down with his wife in Houston. Unexpectedly an old friend of his comes by disrupting his life, revealing his secrets and basically making his day a living hell (and a bloody one too).<br /><br />The film is very original and quite bloody / sexually tinted. So based on that first and that last quality I can assure you that if you like this film, you'll also like Swordfish, which of course has a much bigger budget and more famous faces than this one but is just as good (though not as bloody and not quite as sexually tinted). I saw this film for the second time last night and I really enjoyed it (again). I mean all the characters and actors are good, although I must give very big credits to Thomas Jane and Paulina Porizkova, who were the best actors (and had the best characters) in the film. Also I'd have to thank Skip Woods for being so imaginative and original. Brutal, sexual, offensive??? Maybe, but sure as heck enjoyable and a thrill ride to the end.<br /><br />8 out of 10\",\n",
      "       b'This game requires stealth, smart, and a steady hand. The gameplay is simply the best; on top of that though are the interesting extras - bullet holes stay in the walls, enemies react to specific points where they have been hit by bullets, there are tons of motion captured animations that make the enemies seem very real (for instance when looking through a window at a guard he will stand there swatting flies away, sneezing, or scratching himself), the list goes on. This is the best licensed/movie conversion ever and it puts you in the shoes of the suavest super spy. This game is the best reason for owning an N64.',\n",
      "       b'Whenever I see a video like this, I have to ask myself how it was financed. HBO or Showtime or whatever must pay for the production company to go through the motions -- to hire someone who may or may not actually speak English to get high and hammer out something approaching a plot, to pay strippers with terrifying boob jobs to bounce up and down on grossly waxed dudes\\' torsos, to find people to design and light sets, to purchase the rights to cheesy techno music, etc. But I have to imagine this has to be a vanity project for whoever\\'s serving as executive producer... He had to have nailed all of those girls, right? And bro\\'s not wrong about the \"Spanish looking\" girl, but to call the cops \"stunning\" is awfully generous. In fact, I\\'d go so far as to call them something much closer to \"hideous,\" or \"fugly.\" Watching these women writhe around -- sometimes *clearly* high on pain killers -- was so far from erotic that my testicles actually ascended inside of my body. Gross.<br /><br />Why waste time with this when there\\'s so much freely available hardcore porn on the internet? I wonder whether the popularization of internet video will slowly kill the softcore video industry... One can only hope, right?',\n",
      "       b\"1959 was a landmark in the world of film. Several great directors of the classic era were releasing career capping classics that ranked among their best. Just a look at the titles is instructive, Hitchcock's North By Northwest, Billy Wilder's Some Like It Hot, Howard Hawks' Rio Bravo, Douglas Sirk's Imitation of Life. Add a couple from the previous year, Orson Welles' Touch of Evil, Hitch's Vertigo, and Nick Ray's Wind Across the Everglades, and you've got a pretty good summing up of what was possible within the classic Hollywood style.<br /><br />At the same time, two films appeared that hinted at a whole new way of making films. One was Jean-Luc Godard's Breathless, the other was John Cassavetes Shadows. The two films had certain things in common, largely improvised acting by non stars, handheld cameras, low budgets, and a certain youthful, jazzy swagger. In certain ways, though, they couldn't be farther apart. Godard was still a believer in the director as arbiter of style. He knew more about film than most Hollywood producers, and Breathless was filled with the iconography of the classic crime film. Cassavetes, on the other hand, was an actor, and a refugee from New York's underground theater scene. His first film shows him little impressed with the cinema, and a big believer in actors. Godard's film constantly references it's own artifice, whereas Shadows aims for a certain kind of naturalism.<br /><br />It doesn't reach it, mainly because naturalism is a myth, particularly in cinema. But it feels powerful, kinetic but lilting like the cool jazz on the score, certainly the main inspiration for the filmmaking style on display here. It ultimately doesn't hold together, mainly because Cassavetes' actors here are amateurish beatniks, where Cassavetes style requires strong, imaginative actors. His later work with Gena Rowlands, Ben Gazarra, and Peter Falk blows this out of the water. Due to the director's technical inexperience, some bits of dialogue had to be redubbed later, which defeats the freshness of the improvisation. Still it's fascinating to watch, both for the great moments (like the scene where Leila Goldoni talks about her dissapointment with losing her virginity) and to watch a groundbreaking artist finding his way.\",\n",
      "       b\"Silent historical drama based on the story of Anne Boleyn, newly arrived lady-in-waiting to the Queen who catches the lustful eye of Henry VIII, bad-tempered King of England who loves to feast, drink, hunt, be entertained by his court jester, watch jousts, and chase around after young beauties who jump out of cakes and assorted attractive females around the castle. Well, he's soon annulled his marriage, married Anne, and telling her it is her holy duty to produce a male heir. She fails on that score and he soon has his eye on yet another lady-in-waiting. Meanwhile, Anne spends pretty much the entire film looking hesitant, perturbed, or downright ready to burst into tears. She just doesn't come across as a happy camper (or is it just bad acting?!).<br /><br />This film is a solid piece of entertainment, with an absorbing story that held my interest for two hours - plus I enjoyed seeing the very lavish medieval costuming featured here on a gorgeous sepia tinted print. Emil Jannings is quite striking and memorable in his well-done portrayal of King Henry the Eighth - he really seemed like he WAS Henry the Eighth. I am not so sure about the performance given by the actress who plays Anne, seemed a bit over the top. The DVD of this film features an appropriate, nicely done piano score that perfectly suits this story. Quite a good film.\",\n",
      "       b\"Right on Colmyster. I totally concur with all your sentiments and add these. I came to my PC especially to post a comment on this dreadful (minus)Bgrade movie. I was going to say that in this day and age I am at a loss to comprehend how anyone could possibly make such a woeful movie - but you beat me to it. Anyone reading this and Colmyster's comment, trust me ---- DON't waste you time and money. It's an absolute shocker. The acting is totally pathetic, the script is way worse, and the (so called) special effects are a joke. Surely no-one actually invested money to make this movie? I really cannot think of anything else to say about this so called horror sci-fi product, but must pad this commentary to make 10 lines of comment in order to have it accepted for submission.\",\n",
      "       b'Even those of us who like cute animal pictures --- and I abhor them ---would be hard pressed to find any merit in this abysmally bad travesty of a film. Perhaps inspired by \"101 Dalmatians\" with its smart and loyal dogs, its dumb and devious humans and its absurdly \"happy\" and predictable ending, the alternate title \"101 Turkeys\" springs to mind. That would just about cover everyone involved in its unfortunate production. I dismissed it as some inane Hollywood perversion of British customs before learning, to my horror, that it actually is a Canadian film, done in Victoria BC, that phony British theme park of a town, while sucking tax dollars out of Ottawa ON, that equally phony pit of Canadian mediocrity. Let me count the ways it is bad. The dizzy plot? The asinine script? The dismal performances and sophomoric direction? The cloyingly clever animals? The endless clich\\xc3\\xa9s and predictable slapstick? On second thought, neither I nor those browsing the IMDb have time for a complete catalogue of its failings. Yet were I to detail its merits, this space would remain blank. Trust me, it is bad; a signal monument in the vast pantheon of truly terrible (Canadian) cinema. If you have seen it already, my condolences. If you have not, stay away from it as you would SARS or bubonic plague. Or other movies with cute animals. Don\\'t even let your children see it lest their tiny minds be warped by the even tinier minds of those who financed, fabricated and filmed this frightful folly. Perhaps tonight, when I retire, I will have a nightmare with ghastly fanged beasts springing from the bed table as I flee in frantic flight. I hope so. It will be a far far better thing I do than watch this beastly banal boondoggle. But then, I might dream that I had to watch it a second time and the sheer terror and cold sweat of that makes me want to stay up all night, trembling at the very possibility of seeing it again even as a bad dream. I might even find something worthwhile to watch in its stead. Maybe \"Godzilla\" or \"Attack Of The Killer Tomatoes\" Perhaps the instruction video for my built in vacuum cleaner.',\n",
      "       b'along the history of cinema, there\\'s been a few films that deceived the viewer, such as hitchcock\\'s \"stage fright\", alejandro amen\\xc3\\xa1bar\\'s \"abre los ojos\", David fincher\\'s \"the game\" and this one \"ausentes\" (\"absent\"). to begin with, i don\\'t like this kind of films, i feel like somebody is trying to pull my leg.<br /><br />furthermore, after seeing this film one doesn\\'t know what happened, is such a confusing film. kubrick\\'s \"the shining\" may be a better or a worse movie, but definitely is more honest than this load of pretentious and dubious situations.<br /><br />technically is fine -nice photography, fair performance and so on, but the script is so poor i wonder what did the producers see to carry on and shoot this crap.<br /><br />and this film remarks the 3 guys that wrote the script (calparsoro, loriga and quiroga) are lost in cinema trying to make a masterpiece -or trying to do something to fulfill their stomachs, awaiting for more personal projects.',\n",
      "       b'I just finished this movie and my only comment is \"OH! WOW!\". Jennifer Beals is ok as the fiancee, but Yancy Butler as the female dance instructor is pure sexual dynamite! Having watched her in WITCHBLADE, I was not prepared for the pure unadulterated sensuality and raw sexual excitement she launches onto the screen.<br /><br />I gotta see THIS movie again....if only for Yancy Butler as Corrinne!',\n",
      "       b'Perhaps, we are too much attached to great spectacles when we hear of antiquity brought to screen. Perhaps, we expect too much from these films. However, if we, as viewers, are offered far too little, what happens then? <br /><br />That is what I thought after seeing IMPERIUM - NERONE by Paul Marcus, a part of the production series on the Roman Empire. AUGUSTUS by Roger Young, the first IMPERIUM movie, included at least Peter O\\'Toole but what does this movie include?<br /><br />Hardly anything accurate. The historical errors are so serious that the movie changes facts and constitutes rather a distorted image of the Roman Empire than the true history. Throughout the movie, we see Nero young: young man during the allegedly long reign of Caligula, young man during the reign of Claudius and finally during his own (historically 14 year long) reign. And...he dies the same. According to the movie, Nero, born during the reign of Tiberius, lives for more than 40 years but looks to be in his late twenties when he dies... Continuity combined with made up history is the biggest problem of the movie, which makes it hardly logical, not to say reliable. Nero loses his father, is raised by slaves. At that time, his mother, Agrippina, is exiled by Caligula. Later, however, she suddenly marries emperor Claudius who already has big children with freshly married to him Messalina. At these moments of the movie, we see Acte (Rike Schmid), Nero\\'s mistress. All right, it is historically \"accurate\"; yet, no source proves that she played such a decisive role in the rise of Christianity in Rome. In the film, she is not only a devoted Christian but even a witness of St Paul\\'s miracle (he brings a young girl Marzia back to life). Besides, there was, historically, nothing like Nero seen on the court of Caligula since Nero was born in Caligula\\'s 4 year long reign (A.D. 37-41). I understand that movies may change something but such an error makes the script absolutely unreliable! And many, many other shortcomings concerning content that are hard to enumerate but after 30 minutes of watching this film, I doubted whether I was watching a historical movie or a total fantasy.<br /><br />As for its artistic features which supply us with entertainment, they are equally lame as the history here is. The performances are artificial, the cast simply have beautiful faces but weak acting abilities. Perhaps, I am too much attached to Peter Ustinov or Charles Laughton in the lead, but Hans Matheson does not fit as Nero at all. He could have some of the good moments as an actor but never as the infamous Roman emperor. Is he an artist who burns Rome for a song? Is he a cynic who disguises the love to his relatives? Is he a cruel ruler who sacrifices the lives of thousands of innocent people for the sake of \"alleged justice\"? None of these. He is just a young man who does not know how to rule and, in the long run, begins to release the fire burning within himself... John Simm is out of place in this film as Caligula and absolutely inferior to other portrayals of the character. Elisa Tovati is only sexy as Poppaea; yet she could have been much much better. The costumes are inaccurate and the sets do not amaze. Low budget results in low effects and, consequently, low entertainment.<br /><br />But what made me most angry in this movie and, as a result, I give it 1/10 are some moments that are absolutely unacceptable:<br /><br />- the death of Poppaea and St Paul\\'s talk with Nero at her dead body, <br /><br />- Claudius\\' mention of the current conquest of Britannia on the feast and soon his death (he conquered Britannia while Messalina was his wife much before his death), <br /><br />- Tigellinus killing Agrippina (Laura Morante), Nero\\'s mother, <br /><br />- Nero\\'s arguments in the speech to the senators, <br /><br />- finally, Nero\\'s death - a calm day at the lake and an indifferent suicide that leads to a moral said by Acte \"Let us forgive him\"<br /><br />All in all, this film is a waste of time and is absolutely unneeded as yet another production concerning the Roman Empire. It\\'s better to make one good film in 30 years than ten minor little ones in 5 years. 1/10 - should not have been made at all.',\n",
      "       b\"I saw Dark Harbor at the '98 Seattle Film Festival. Filmed against a autumnal Maine backdrop, this movie boasts an excellent cast and a plot that keeps you guessing throughout. At times eerie, at times funny, I have to say that it stayed with me for days after seeing it. Rickman and Walker are wonderful as the icy marrieds and Reedus is someone you'll be hearing more from, I'm sure. The opening shot of a winding, deserted road in a downpour at dusk (and the score that accompanied it) set the tone so well -- just terrific. Nice, nice work from a new-ish director/screenwriter and his talented crew.\",\n",
      "       b\"When I saw this film at a festival years ago I was very impressed and I started to looking for it. Nothing to do, not in the cinemas, nor on DVD neither on Blue ray. Absolutely nothing!!! How it's possible this could really happen??? The direction is IMPECCABLE, the story is intriguing and has been filmed in a very original way the music it's perfect and James Franco is hot as hell!!!<br /><br />Please release this master piece and allow it to have it's proper life!!!!!!!!!! This is really a very great movie that people should see and it deserve another chance!!!!!! <br /><br />Edvard\",\n",
      "       b'This movie was probably one of the worst movies I\\'ve seen in a very long time. A friend of mine grabbed it off the shelf at the video rental store, and all but forced me to watch it, an action we both deeply regret. Ehh... Where to start? The writing, the acting, the quality? All of it, sucked. <br /><br />Quite possibly some of the worst writing ever displayed in a movie. The dialog was worse than I thought it could ever be in the movies. Blatant dialog, such as \"how ya doing?\"...\"not that great, doc\" (directly after an attempted exorcism of a man\\'s daughter and then his wife\\'s attempted suicide. Of course he\\'s not that great.) was, at some points, kind of funny. If not horribly written, planned out, and obvious. The general plot of the movie, the writing and the way it worked, HORRIBLE. It was like the writers could come up with nothing better to do then write a bunch of crappy dialog and throw in as many sex and nudity scenes as they randomly could. The only almost good sex scene (between the preacher and the tattooed & Peirced girl) was filmed with such poor quality that it looked more like a cheap porno than a feature film. Oh yeah, and they never actually got the deed done.<br /><br />The acting? Horrible. x100. I think the only good actor was the short Spanish guy who played Miguel, Del Zamora. And his part was written horribly. The worst acting? Arguably Paul Kappellas, whose acting combined with shitty music, a gun, and a half naked bluish white girl running around in the woods made the movie almost unbearable to sit through. He even screwed up his own death scene, one that should have been easy to nail. Although, most everybody else\\'s acting was horrible as well.<br /><br />The lack of characters also added to the overall suck level of the movie. There were just enough characters so that almost half of the characters died, that same amount of people became possessed at one point, and then the remaining characters couldn\\'t be counted on one hand. Like... 50 thumbs down.<br /><br />P.S. What IS it with the climax of exorcism movies happening in a stable, anyways?',\n",
      "       b'John Cassavetes is on the run from the law. He is at the bottom of the heap. He sees Negro Sidney Poitier as his equal and they quickly become friends, forming a sort of alliance against a bully of a foreman played by Jack Warden.<br /><br />As someone who has worked in a warehouse myself when I was younger, I can tell you that the warehouse fights, complete with tumbling packing cases and flailing grappling hooks are as realistic as it gets. I\\'ve been in fights like these myself, although no one got killed.<br /><br />The introduction of Sidney Poitier\\'s widow is a variation on Shakespeare\\'s Shylock \"Do I not bleed?\" This is an anti racist film, which, at the time, was much needed.<br /><br />All the three principle characters - Warden, Cassavetes and Poitier - are superb, with Warden the most outstanding of the three.',\n",
      "       b\"There have been some harsh criticisms of Comanche Moon on IMDb. I think this is for three reasons. First, purists are disappointed that the mini-series is not exactly like the book. Second, it's not as good as the original Lonesome Dove. Finally, people like to complain on IMDb and the greatest films in the world will have bad comments.<br /><br />I would like to say that no movie is going to be as good as the book. That's just the way it is. Lonesome Dove wasn't as good as the novel it was based on. Additionally, the movie of Lonesome Dove had some things left out ans switched around. That's just they way its going to be with a film adaptation of anything. So its a futile argument when looking at Comanche Moon.<br /><br />I do agree it's not as good as the original Dove. But hey, nothing is. I know people that guide their lives by the lessons they learned from the Dove. If I was going to compare every book I read, movie I watched, and TV I viewed by Lonesome Dove; I would be perpetually unhappy.<br /><br />This is a made for TV miniseries based on a prequel to Lonesome Dave (the novel) and sequel to Dead man's Walk, and that's what you get. It's the best TV I've seen in years. It's a fun set up for Lonesome Dove. We get to learn about the history of the Rangers we came to know and love in Dove. Zahn does an amazing job in recreating Gus McCrae. Elizabeth Banks and Linda Forenelli (sp?) also do great jobs as creating characters that help fill in the past of the rangers and Newt.<br /><br />If/when it comes on again, I promise you'll enjoy it more than some crumby reality show.\",\n",
      "       b'\"Congo\" is based on the best-selling novel by Michael Crichton, which I thought lacked Crichton\\'s usual charm, smart characters and punch. Well, sorry to say, but the same goes for the film.<br /><br />Here\\'s the plot:<br /><br />Greed is bad, this simple morality tale cautions. A megalomaniacal C.E.O. (Joe Don Baker) sends his son into the dangerous African Congo on a quest for a source of diamonds large enough and pure enough to function as powerful laser communications transmitter (or is it laser weapons?). When contact is lost with his son and the team, his daughter-in-law (Laura Linney), a former CIA operative and computer-freak, is sent after them. On her quest, she is accompanied by gee-whiz gadgetry and a few eccentric characters (including a mercenary (Ernie Hudson), a researcher with a talking gorilla (Dylan Walsh), and a a nutty Indiana-Jones-type looking for King Solomon\\'s Mines (Tim Curry). After some narrow escapes from surface-to-air missiles and some African wildlife, they all discover that often what we most want turns out to be the source of our downfall.<br /><br /> The actors in this movie were not talented. Dylan Walsh acts like a pathetic crybaby, especially at the end; Ernie Hudson is unconvincing (is it no wonder he went on to star in TV films?) and Laura Linney is nothing special. I think I can safely say the only talented actors in this film had very small roles: Joe Don Baker and Tim Curry, an always enjoyable actor (although sometimes scarred for life by constantly being reminded of his \"Rocky Horror Picture\" days).<br /><br /> This movie also had some other problems, including awful direction style, cheesy dialogue and a just-plain-boring plot, which was completely hashed when compared to Crichton\\'s novel.<br /><br /> Not even Stan Winston\\'s creature effects could save this movie from being a disaster. I am deeply disappointed in this movie; there was not even a campy quality to redeem itself with. It was just plain awful, cheesy, boring and ridiculous, and proves to be one of the worst Crichton book-to-film productions.<br /><br />2/5 stars -<br /><br />John Ulmer',\n",
      "       b'How bad can you make a film. A good question which House of the Dead 2 succeeds in answering. I could not believe it was possible to get something worse than the first House of the Dead but amazingly the director has succeeded. The only feeling you get from the film is that its bad, just bad. What with overacting, bad FX and a stupid story. Its this kind of movie which gives a bad name to Z-Movies in general. Why could they not learn the lesson from the first House of the Dead movie? Anyway I guess you will have understood by now that you should not see this film. It is but a waste of time. Watch \"Bad Taste\" or \"Dawn of the Dead\" if you want to see some good zombies.',\n",
      "       b'World War I gets a glossy, sepia-tinted makeover in Jean-Pierre Jeunet\\'s relentlessly whimsical \"A Very Long Engagement\". Jeunet\\'s trademark style consists of mechanical, almost clockwork-like narrative construction garnished with lavish, chocolate box production values and seasoned with faux-naive humour. It\\'s an approach that worked pretty well with his previous picture, the romantic fantasy \"Amelie\", thanks in no small part to the inimitable contribution of Audrey Tatou in the title role. Applied to vastly more sombre material, Jeunet\\'s method backfires rather badly.<br /><br />Tatou crops up again here in a variation on the same sort of sweetly off-beat character as Amelie. She\\'s Mathilde, an orphan who lives quietly with her aunt and uncle in an idyllic rural setting, determined to trace what became of her child sweetheart Manech (Gaspard Ulliel), several years after he went missing in the War. Manech was one of five soldiers court-martialled for self-mutilation in 1917 at \\'Bingo Crepuscule\\', and sent over the top into no-man\\'s-land as a punishment. He\\'s presumed dead by all but Mathilde who cherishes the hope of finding him. The film follows Mathilde\\'s dogged quest to find out what really happened, and as she delves deeper she uncovers a sad, even shocking story of high-ranking corruption and inhumanity. Mathilde must filter the facts from the fictions that arise from various conflicting, overlapping or incomplete accounts of what seem to be Manech\\'s final hours.<br /><br />All this should be poignant and gripping, but it\\'s more often simply confusing thanks to the visual and verbal clutter with which Jeunet pummels his audience. There\\'s simply too much going on at any one time, including an intrusive narration that adds precisely nothing to our appreciation of the story and characters. Without a moment\\'s respite from informational overload, I felt denied the space to reflect on Mathilde\\'s quest or the room to engage with it on my own terms. Jeunet\\'s unceasingly busy camera spirals and swoops and circles, caressing every surface contour of his exquisitely designed production, but it singularly fails to penetrate to the soul beneath the story\\'s skin. The result is deeply uninvolving, and worse, grotesque. The First World War was a particularly dark hour in human history. Imagine it re-created as one of those picturesque commercials for a well known Belgian lager, and you have the measure of this film.',\n",
      "       b\"I think Shane Black is one of the all time greatest action screenwriters ever! He gave us the awesome (at it's time)Lethal Weapon, shooting Mel Gibson to super stardom. Then followed that up with the second best movie Bruce Willis has ever been in (The Last Boyscout).Stumbled a bit with The Last Action Hero, but redeemed himself with this one, The Long Kiss Goodnight.<br /><br />If you're a fan of action films, this has it all...Action, Comedy, Thrills, then tops it of with more Action, Comedy and Thrills. Geena Davies is great, Samual L Jackson is even greater. Don't miss it !<br /><br />9/10\",\n",
      "       b\"This is not the true story. It is the darkest possible fiction derived from the events. It endorses suicide, morose obsession with death, a totally gratuitous sideswipe at organized religion in general (and the Anglican Church, in particular) and generally provides a nihilistic, pointless world view from which filmgoers, I suppose, are intended to walk away, richer in their poverty and more hopeful in their hopelessness.<br /><br />Utter trash, though attractively performed by a capable cast. That anyone would suggest this is a true rendering, however, is very much false advertising. You want the real story? Rent 'Fairy Tale'. That's the real story. See if you can find any correspondence between the facts presented in either case. I only found one: the girls who made the original photographs were pre-pubescent.\",\n",
      "       b'The silly saying, \"You can\\'t touch this\" surely applies here. With all the clone horror and sci-fi films coming out, along with all the inferior remakes, it\\'s hard to find anything worthy of 2 hours of your time. That\\'s why I always rely on the classics that scared the weewee out of me when I was a pre-teen.<br /><br />THE THING is, without an ounce of doubt in my mind, the goriest, ickiest, screechiest sci-fi horror classic that John Carpenter, or any other director (sorry, even you Mr. Spielberg) ever made. What really gives it power, though, is not the gore (it OOOOOZES of slime and blood and God knows what other fluids), but rather the sense of dread, isolation, and distrust it fosters in the characters and the viewer.<br /><br />You can\\'t get more remote than Antarctica, and in this howling, freezing white setting is where the story takes place. Several Americans, researchers and military men, are stationed there. One day, they witness a Siberian Husky dog running for dear life from gun-wielding Norwegians. Before they know it, the American outpost is battling a mysterious creature that can imitate any creature it wants. It may morph into disgusting slimy bloody shapes before it\\'s finished, but once it\\'s finished, if you didn\\'t see it in progress, you can\\'t tell it among humans or other normal Earth animals.<br /><br />Kurt Russell, Keith David, Wilford Brimley, Richard Masur, Donald Moffatt, TK Carter, Thomas Waites and Charles Hallahan are just a few of the fine cast. This film is the reason why horror CAN be a great genre. It actually STILL scares me. The alien blood \"jumping\" out of the petri dish when the hot wire touches it still makes ME jump!!!<br /><br />Still the scariest of them all.',\n",
      "       b\"No redeeming features, this film is rubbish. Its jokes don't begin to be funny. The humour for children is pathetic, and the attempts to appeal to adults just add a tacky smuttishness to the whole miserable package. Sitting through it with my children just made me uncomfortable about what might be coming next. I couldn't enjoy the film at all. Although my child for whom the DVD was bought enjoyed the fact that she owned a new DVD, neither she nor her sisters expressed much interest in seeing it again, unlike with Monsters inc, Finding Nemo, Jungle Book, Lion King, etc. which all get frequent requests for replays.\",\n",
      "       b\"The Falcon and the Snowman is the true story of two college-age rich kids from L.A. who become spies for the Soviet Union. One, played by Penn, is already a drug smuggler up to his eyeballs in trouble. The other, played by Hutton, lands a position at an aerospace firm where his job is to man a top-secret cable facility. There he learns of some of the dirty tricks employed by the CIA on foreigners that America doesn't like. Don't forget that the movie is set the early 70s, the time of Vietnam and Watergate. Appalled at what he's learned, the Hutton character decides to betray his country and convinces his buddy to join him. Neither of them is long on brains, it is not long before they're way in over their heads with no way out.<br /><br />This is not a thriller, and is rather slowly paced. If this is not a problem for you, then it is well worth the rental.\"],\n",
      "      dtype=object)>, <tf.Tensor: shape=(32,), dtype=int32, numpy=\n",
      "array([1, 0, 0, 1, 1, 1, 1, 0, 0, 1, 1, 0, 1, 1, 0, 0, 0, 1, 0, 1, 1, 0,\n",
      "       1, 1, 0, 0, 0, 1, 0, 1, 0, 1])>)\n"
     ]
    },
    {
     "ename": "Exception",
     "evalue": "",
     "output_type": "error",
     "traceback": [
      "\u001b[1;31m---------------------------------------------------------------------------\u001b[0m",
      "\u001b[1;31mException\u001b[0m                                 Traceback (most recent call last)",
      "Input \u001b[1;32mIn [106]\u001b[0m, in \u001b[0;36m<cell line: 1>\u001b[1;34m()\u001b[0m\n\u001b[0;32m      1\u001b[0m \u001b[38;5;28;01mfor\u001b[39;00m x \u001b[38;5;129;01min\u001b[39;00m val_ds:\n\u001b[0;32m      2\u001b[0m     \u001b[38;5;28mprint\u001b[39m(x)\n\u001b[1;32m----> 3\u001b[0m     \u001b[38;5;28;01mraise\u001b[39;00m \u001b[38;5;167;01mException\u001b[39;00m()\n",
      "\u001b[1;31mException\u001b[0m: "
     ]
    }
   ],
   "source": [
    "for x in val_ds:\n",
    "    print(x)\n",
    "    raise Exception()"
   ]
  },
  {
   "cell_type": "code",
   "execution_count": null,
   "id": "0e860da1",
   "metadata": {},
   "outputs": [],
   "source": []
  }
 ],
 "metadata": {
  "kernelspec": {
   "display_name": "Python 3 (ipykernel)",
   "language": "python",
   "name": "python3"
  },
  "language_info": {
   "codemirror_mode": {
    "name": "ipython",
    "version": 3
   },
   "file_extension": ".py",
   "mimetype": "text/x-python",
   "name": "python",
   "nbconvert_exporter": "python",
   "pygments_lexer": "ipython3",
   "version": "3.10.2"
  }
 },
 "nbformat": 4,
 "nbformat_minor": 5
}
