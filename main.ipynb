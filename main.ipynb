{
 "cells": [
  {
   "cell_type": "code",
   "execution_count": 111,
   "id": "f609bee8",
   "metadata": {},
   "outputs": [],
   "source": [
    "import tensorflow as tf\n",
    "import os\n",
    "from pathlib import Path"
   ]
  },
  {
   "cell_type": "code",
   "execution_count": 112,
   "id": "5a4d81b7",
   "metadata": {},
   "outputs": [],
   "source": [
    "train_path = Path() / 'aclImdb' / 'train'\n",
    "test_path = Path() / 'aclImdb' / 'test'"
   ]
  },
  {
   "cell_type": "code",
   "execution_count": 113,
   "id": "07009463",
   "metadata": {},
   "outputs": [
    {
     "name": "stdout",
     "output_type": "stream",
     "text": [
      "Unsupervised dataset does not exist\n"
     ]
    }
   ],
   "source": [
    "unsupervised_path = train_path / 'unsup'\n",
    "if os.path.exists(unsupervised_path):\n",
    "    for file in os.listdir(unsupervised_path):\n",
    "        file_path = unsupervised_path / file\n",
    "        os.remove(file_path)\n",
    "    os.rmdir(unsupervised_path)\n",
    "    print('Unsupervised dataset removed')\n",
    "else:\n",
    "    print('Unsupervised dataset does not exist')    "
   ]
  },
  {
   "cell_type": "code",
   "execution_count": 114,
   "id": "bb8e8983",
   "metadata": {},
   "outputs": [
    {
     "name": "stdout",
     "output_type": "stream",
     "text": [
      "Found 25000 files belonging to 2 classes.\n"
     ]
    }
   ],
   "source": [
    "train_ds = tf.keras.utils.text_dataset_from_directory(\n",
    "    train_path,\n",
    "    batch_size=32,\n",
    "    seed=42,\n",
    ")"
   ]
  },
  {
   "cell_type": "code",
   "execution_count": 115,
   "id": "eb625cec",
   "metadata": {
    "scrolled": true
   },
   "outputs": [
    {
     "name": "stdout",
     "output_type": "stream",
     "text": [
      "Label 0 corresponds to neg\n",
      "Label 1 corresponds to pos\n"
     ]
    }
   ],
   "source": [
    "for i, label in enumerate(train_ds.class_names):\n",
    "    print(\"Label\", i, \"corresponds to\", label)"
   ]
  },
  {
   "cell_type": "code",
   "execution_count": 116,
   "id": "2ca52b36",
   "metadata": {},
   "outputs": [
    {
     "name": "stdout",
     "output_type": "stream",
     "text": [
      "Found 25000 files belonging to 2 classes.\n",
      "Using 10000 files for training.\n",
      "Using 15000 files for validation.\n"
     ]
    }
   ],
   "source": [
    "(test_ds, val_ds) = tf.keras.utils.text_dataset_from_directory(\n",
    "    test_path,\n",
    "    batch_size=32,\n",
    "    validation_split=0.6,\n",
    "    subset='both',\n",
    "    seed=42,\n",
    ")"
   ]
  },
  {
   "cell_type": "code",
   "execution_count": 117,
   "id": "8b183488",
   "metadata": {
    "scrolled": true
   },
   "outputs": [
    {
     "name": "stdout",
     "output_type": "stream",
     "text": [
      "Label 0 corresponds to neg\n",
      "Label 1 corresponds to pos\n"
     ]
    }
   ],
   "source": [
    "for i, label in enumerate(test_ds.class_names):\n",
    "    print(\"Label\", i, \"corresponds to\", label)"
   ]
  },
  {
   "cell_type": "code",
   "execution_count": 118,
   "id": "9700d4f0",
   "metadata": {},
   "outputs": [],
   "source": [
    "vocab_size = 10_000\n",
    "embedding_dim = 16"
   ]
  },
  {
   "cell_type": "code",
   "execution_count": 122,
   "id": "7622fd9a",
   "metadata": {},
   "outputs": [],
   "source": [
    "text_ds = train_ds.map(lambda x, y: x)"
   ]
  },
  {
   "cell_type": "code",
   "execution_count": 124,
   "id": "546355a8",
   "metadata": {},
   "outputs": [],
   "source": [
    "def split_text(text):\n",
    "    return tf.strings.split(text)"
   ]
  },
  {
   "cell_type": "code",
   "execution_count": 125,
   "id": "5dfcf7f0",
   "metadata": {},
   "outputs": [],
   "source": [
    "num_words = text_ds.map(split_text).reduce(0, lambda x, y: x + tf.size(y)).numpy()"
   ]
  },
  {
   "cell_type": "code",
   "execution_count": 126,
   "id": "3d6d4351",
   "metadata": {},
   "outputs": [
    {
     "data": {
      "text/plain": [
       "5844464"
      ]
     },
     "execution_count": 126,
     "metadata": {},
     "output_type": "execute_result"
    }
   ],
   "source": [
    "num_words"
   ]
  },
  {
   "cell_type": "code",
   "execution_count": 119,
   "id": "9cb2228c",
   "metadata": {},
   "outputs": [],
   "source": [
    "vectorize_layer = tf.keras.layers.TextVectorization(max_tokens=vocab_size)\n",
    "text_ds = train_ds.map(lambda x, y: x)\n",
    "vectorize_layer.adapt(text_ds)"
   ]
  },
  {
   "cell_type": "code",
   "execution_count": 128,
   "id": "561c3bf8",
   "metadata": {},
   "outputs": [],
   "source": [
    "model = tf.keras.Sequential([\n",
    "    vectorize_layer,\n",
    "    tf.keras.layers.Embedding(vocab_size, embedding_dim),\n",
    "    tf.keras.layers.GlobalAveragePooling1D(), # this computes the mean embedding for each review :)\n",
    "    tf.keras.layers.Lambda(lambda x: x * tf.sqrt(tf.cast(num_words, tf.float32))), # multiplies mean embedding the sqrt(num_words)\n",
    "    tf.keras.layers.Dense(10, activation='relu'),\n",
    "    tf.keras.layers.Dense(1)\n",
    "])"
   ]
  },
  {
   "cell_type": "code",
   "execution_count": 129,
   "id": "eb58b078",
   "metadata": {},
   "outputs": [],
   "source": [
    "model.compile(optimizer='adam',\n",
    "              loss=tf.keras.losses.BinaryCrossentropy(from_logits=True),\n",
    "              metrics=['accuracy'])"
   ]
  },
  {
   "cell_type": "code",
   "execution_count": null,
   "id": "4e20109d",
   "metadata": {
    "scrolled": true
   },
   "outputs": [
    {
     "name": "stdout",
     "output_type": "stream",
     "text": [
      "Epoch 1/15\n",
      "782/782 [==============================] - 17s 21ms/step - loss: 0.4131 - accuracy: 0.8029 - val_loss: 0.3190 - val_accuracy: 0.8672\n",
      "Epoch 2/15\n",
      "782/782 [==============================] - 9s 11ms/step - loss: 0.2435 - accuracy: 0.8979 - val_loss: 0.3149 - val_accuracy: 0.8703\n",
      "Epoch 3/15\n",
      "782/782 [==============================] - 9s 11ms/step - loss: 0.1899 - accuracy: 0.9231 - val_loss: 0.3605 - val_accuracy: 0.8507\n",
      "Epoch 4/15\n",
      "782/782 [==============================] - 9s 11ms/step - loss: 0.1675 - accuracy: 0.9331 - val_loss: 0.3678 - val_accuracy: 0.8693\n",
      "Epoch 5/15\n",
      "782/782 [==============================] - 9s 11ms/step - loss: 0.1437 - accuracy: 0.9432 - val_loss: 0.4460 - val_accuracy: 0.8400\n",
      "Epoch 6/15\n",
      "782/782 [==============================] - 9s 11ms/step - loss: 0.1250 - accuracy: 0.9512 - val_loss: 0.4961 - val_accuracy: 0.8329\n",
      "Epoch 7/15\n",
      "782/782 [==============================] - 9s 11ms/step - loss: 0.1151 - accuracy: 0.9542 - val_loss: 0.6787 - val_accuracy: 0.8117\n",
      "Epoch 8/15\n",
      "782/782 [==============================] - 9s 11ms/step - loss: 0.1025 - accuracy: 0.9602 - val_loss: 0.5977 - val_accuracy: 0.8523\n",
      "Epoch 9/15\n",
      "123/782 [===>..........................] - ETA: 5s - loss: 0.1104 - accuracy: 0.9566"
     ]
    }
   ],
   "source": [
    "model.fit(\n",
    "    train_ds,\n",
    "    validation_data=val_ds,\n",
    "    epochs=15)"
   ]
  },
  {
   "cell_type": "code",
   "execution_count": null,
   "id": "f2f86c23",
   "metadata": {},
   "outputs": [],
   "source": []
  }
 ],
 "metadata": {
  "kernelspec": {
   "display_name": "Python 3 (ipykernel)",
   "language": "python",
   "name": "python3"
  },
  "language_info": {
   "codemirror_mode": {
    "name": "ipython",
    "version": 3
   },
   "file_extension": ".py",
   "mimetype": "text/x-python",
   "name": "python",
   "nbconvert_exporter": "python",
   "pygments_lexer": "ipython3",
   "version": "3.10.2"
  }
 },
 "nbformat": 4,
 "nbformat_minor": 5
}
