{
 "cells": [
  {
   "cell_type": "code",
   "execution_count": 111,
   "id": "f609bee8",
   "metadata": {},
   "outputs": [],
   "source": [
    "import tensorflow as tf\n",
    "import os\n",
    "from pathlib import Path"
   ]
  },
  {
   "cell_type": "code",
   "execution_count": 112,
   "id": "5a4d81b7",
   "metadata": {},
   "outputs": [],
   "source": [
    "train_path = Path() / 'aclImdb' / 'train'\n",
    "test_path = Path() / 'aclImdb' / 'test'"
   ]
  },
  {
   "cell_type": "code",
   "execution_count": 113,
   "id": "07009463",
   "metadata": {},
   "outputs": [
    {
     "name": "stdout",
     "output_type": "stream",
     "text": [
      "Unsupervised dataset does not exist\n"
     ]
    }
   ],
   "source": [
    "unsupervised_path = train_path / 'unsup'\n",
    "if os.path.exists(unsupervised_path):\n",
    "    for file in os.listdir(unsupervised_path):\n",
    "        file_path = unsupervised_path / file\n",
    "        os.remove(file_path)\n",
    "    os.rmdir(unsupervised_path)\n",
    "    print('Unsupervised dataset removed')\n",
    "else:\n",
    "    print('Unsupervised dataset does not exist')    "
   ]
  },
  {
   "cell_type": "code",
   "execution_count": 114,
   "id": "bb8e8983",
   "metadata": {},
   "outputs": [
    {
     "name": "stdout",
     "output_type": "stream",
     "text": [
      "Found 25000 files belonging to 2 classes.\n"
     ]
    }
   ],
   "source": [
    "train_ds = tf.keras.utils.text_dataset_from_directory(\n",
    "    train_path,\n",
    "    batch_size=32,\n",
    "    seed=42,\n",
    ")"
   ]
  },
  {
   "cell_type": "code",
   "execution_count": 115,
   "id": "eb625cec",
   "metadata": {
    "scrolled": true
   },
   "outputs": [
    {
     "name": "stdout",
     "output_type": "stream",
     "text": [
      "Label 0 corresponds to neg\n",
      "Label 1 corresponds to pos\n"
     ]
    }
   ],
   "source": [
    "for i, label in enumerate(train_ds.class_names):\n",
    "    print(\"Label\", i, \"corresponds to\", label)"
   ]
  },
  {
   "cell_type": "code",
   "execution_count": 116,
   "id": "2ca52b36",
   "metadata": {},
   "outputs": [
    {
     "name": "stdout",
     "output_type": "stream",
     "text": [
      "Found 25000 files belonging to 2 classes.\n",
      "Using 10000 files for training.\n",
      "Using 15000 files for validation.\n"
     ]
    }
   ],
   "source": [
    "(test_ds, val_ds) = tf.keras.utils.text_dataset_from_directory(\n",
    "    test_path,\n",
    "    batch_size=32,\n",
    "    validation_split=0.6,\n",
    "    subset='both',\n",
    "    seed=42,\n",
    ")"
   ]
  },
  {
   "cell_type": "code",
   "execution_count": 117,
   "id": "8b183488",
   "metadata": {
    "scrolled": true
   },
   "outputs": [
    {
     "name": "stdout",
     "output_type": "stream",
     "text": [
      "Label 0 corresponds to neg\n",
      "Label 1 corresponds to pos\n"
     ]
    }
   ],
   "source": [
    "for i, label in enumerate(test_ds.class_names):\n",
    "    print(\"Label\", i, \"corresponds to\", label)"
   ]
  },
  {
   "cell_type": "code",
   "execution_count": 118,
   "id": "bae02e7c",
   "metadata": {},
   "outputs": [],
   "source": [
    "vocab_size = 10_000\n",
    "embedding_dim = 16"
   ]
  },
  {
   "cell_type": "code",
   "execution_count": 122,
   "id": "162c85e0",
   "metadata": {},
   "outputs": [],
   "source": [
    "text_ds = train_ds.map(lambda x, y: x)"
   ]
  },
  {
   "cell_type": "code",
   "execution_count": 124,
   "id": "6bde6bcb",
   "metadata": {},
   "outputs": [],
   "source": [
    "def split_text(text):\n",
    "    return tf.strings.split(text)"
   ]
  },
  {
   "cell_type": "code",
   "execution_count": 125,
   "id": "6fff85aa",
   "metadata": {},
   "outputs": [],
   "source": [
    "num_words = text_ds.map(split_text).reduce(0, lambda x, y: x + tf.size(y)).numpy()"
   ]
  },
  {
   "cell_type": "code",
   "execution_count": 126,
   "id": "c080f10d",
   "metadata": {},
   "outputs": [
    {
     "data": {
      "text/plain": [
       "5844464"
      ]
     },
     "execution_count": 126,
     "metadata": {},
     "output_type": "execute_result"
    }
   ],
   "source": [
    "num_words"
   ]
  },
  {
   "cell_type": "code",
   "execution_count": 119,
   "id": "7de66da0",
   "metadata": {},
   "outputs": [],
   "source": [
    "vectorize_layer = tf.keras.layers.TextVectorization(max_tokens=vocab_size)\n",
    "text_ds = train_ds.map(lambda x, y: x)\n",
    "vectorize_layer.adapt(text_ds)"
   ]
  },
  {
   "cell_type": "code",
   "execution_count": 128,
   "id": "561c3bf8",
   "metadata": {},
   "outputs": [],
   "source": [
    "model = tf.keras.Sequential([\n",
    "    vectorize_layer,\n",
    "    tf.keras.layers.Embedding(vocab_size, embedding_dim),\n",
    "    tf.keras.layers.GlobalAveragePooling1D(), # this computes the mean embedding for each review :)\n",
    "    tf.keras.layers.Lambda(lambda x: x * tf.sqrt(tf.cast(num_words, tf.float32))), # multiplies mean embedding the sqrt(num_words)\n",
    "    tf.keras.layers.Dense(10, activation='relu'),\n",
    "    tf.keras.layers.Dense(1)\n",
    "])"
   ]
  },
  {
   "cell_type": "code",
   "execution_count": 129,
   "id": "eb58b078",
   "metadata": {},
   "outputs": [],
   "source": [
    "model.compile(optimizer='adam',\n",
    "              loss=tf.keras.losses.BinaryCrossentropy(from_logits=True),\n",
    "              metrics=['accuracy'])"
   ]
  },
  {
   "cell_type": "code",
   "execution_count": 130,
   "id": "4e20109d",
   "metadata": {
    "scrolled": true
   },
   "outputs": [
    {
     "name": "stdout",
     "output_type": "stream",
     "text": [
      "Epoch 1/15\n",
      "782/782 [==============================] - 17s 21ms/step - loss: 0.4131 - accuracy: 0.8029 - val_loss: 0.3190 - val_accuracy: 0.8672\n",
      "Epoch 2/15\n",
      "782/782 [==============================] - 9s 11ms/step - loss: 0.2435 - accuracy: 0.8979 - val_loss: 0.3149 - val_accuracy: 0.8703\n",
      "Epoch 3/15\n",
      "782/782 [==============================] - 9s 11ms/step - loss: 0.1899 - accuracy: 0.9231 - val_loss: 0.3605 - val_accuracy: 0.8507\n",
      "Epoch 4/15\n",
      "782/782 [==============================] - 9s 11ms/step - loss: 0.1675 - accuracy: 0.9331 - val_loss: 0.3678 - val_accuracy: 0.8693\n",
      "Epoch 5/15\n",
      "782/782 [==============================] - 9s 11ms/step - loss: 0.1437 - accuracy: 0.9432 - val_loss: 0.4460 - val_accuracy: 0.8400\n",
      "Epoch 6/15\n",
      "782/782 [==============================] - 9s 11ms/step - loss: 0.1250 - accuracy: 0.9512 - val_loss: 0.4961 - val_accuracy: 0.8329\n",
      "Epoch 7/15\n",
      "782/782 [==============================] - 9s 11ms/step - loss: 0.1151 - accuracy: 0.9542 - val_loss: 0.6787 - val_accuracy: 0.8117\n",
      "Epoch 8/15\n",
      "782/782 [==============================] - 9s 11ms/step - loss: 0.1025 - accuracy: 0.9602 - val_loss: 0.5977 - val_accuracy: 0.8523\n",
      "Epoch 9/15\n",
      "782/782 [==============================] - 9s 11ms/step - loss: 0.0904 - accuracy: 0.9654 - val_loss: 0.5879 - val_accuracy: 0.8542\n",
      "Epoch 10/15\n",
      "782/782 [==============================] - 9s 12ms/step - loss: 0.0786 - accuracy: 0.9696 - val_loss: 0.6300 - val_accuracy: 0.8554\n",
      "Epoch 11/15\n",
      "782/782 [==============================] - 9s 12ms/step - loss: 0.0703 - accuracy: 0.9716 - val_loss: 0.7486 - val_accuracy: 0.8349\n",
      "Epoch 12/15\n",
      "782/782 [==============================] - 9s 11ms/step - loss: 0.0716 - accuracy: 0.9723 - val_loss: 0.7838 - val_accuracy: 0.8358\n",
      "Epoch 13/15\n",
      "782/782 [==============================] - 9s 11ms/step - loss: 0.0536 - accuracy: 0.9799 - val_loss: 0.9054 - val_accuracy: 0.8327\n",
      "Epoch 14/15\n",
      "782/782 [==============================] - 9s 11ms/step - loss: 0.0513 - accuracy: 0.9808 - val_loss: 0.8488 - val_accuracy: 0.8479\n",
      "Epoch 15/15\n",
      "782/782 [==============================] - 9s 12ms/step - loss: 0.0550 - accuracy: 0.9784 - val_loss: 0.8873 - val_accuracy: 0.8574\n"
     ]
    },
    {
     "data": {
      "text/plain": [
       "<keras.callbacks.History at 0x249b5bcfd30>"
      ]
     },
     "execution_count": 130,
     "metadata": {},
     "output_type": "execute_result"
    }
   ],
   "source": [
    "model.fit(\n",
    "    train_ds,\n",
    "    validation_data=val_ds,\n",
    "    epochs=15)"
   ]
  },
  {
   "cell_type": "code",
   "execution_count": 1,
   "id": "a03bac42",
   "metadata": {},
   "outputs": [],
   "source": [
    "import tensorflow_datasets as tfds"
   ]
  },
  {
   "cell_type": "code",
   "execution_count": 4,
   "id": "aad0b55d",
   "metadata": {},
   "outputs": [],
   "source": [
    "imdb_reviews = tfds.load('imdb_reviews')"
   ]
  },
  {
   "cell_type": "code",
   "execution_count": 15,
   "id": "b7007272",
   "metadata": {},
   "outputs": [],
   "source": [
    "ds_train_new = imdb_reviews['train']"
   ]
  },
  {
   "cell_type": "code",
   "execution_count": 16,
   "id": "3aa7ce9f",
   "metadata": {},
   "outputs": [],
   "source": [
    "ds_test_new = imdb_reviews['test']"
   ]
  },
  {
   "cell_type": "code",
   "execution_count": 21,
   "id": "383df4ae",
   "metadata": {},
   "outputs": [
    {
     "data": {
      "text/plain": [
       "25000"
      ]
     },
     "execution_count": 21,
     "metadata": {},
     "output_type": "execute_result"
    }
   ],
   "source": [
    "len(ds_train_new)"
   ]
  },
  {
   "cell_type": "code",
   "execution_count": 22,
   "id": "db4eb03f",
   "metadata": {},
   "outputs": [
    {
     "data": {
      "text/plain": [
       "25000"
      ]
     },
     "execution_count": 22,
     "metadata": {},
     "output_type": "execute_result"
    }
   ],
   "source": [
    "len(ds_test_new)"
   ]
  },
  {
   "cell_type": "code",
   "execution_count": null,
   "id": "5cb1cc5b",
   "metadata": {},
   "outputs": [],
   "source": []
  },
  {
   "cell_type": "code",
   "execution_count": 33,
   "id": "dd92e0a0",
   "metadata": {},
   "outputs": [
    {
     "name": "stdout",
     "output_type": "stream",
     "text": [
      "{'label': <tf.Tensor: shape=(), dtype=int64, numpy=0>, 'text': <tf.Tensor: shape=(), dtype=string, numpy=b\"This was an absolutely terrible movie. Don't be lured in by Christopher Walken or Michael Ironside. Both are great actors, but this must simply be their worst role in history. Even their great acting could not redeem this movie's ridiculous storyline. This movie is an early nineties US propaganda piece. The most pathetic scenes were those when the Columbian rebels were making their cases for revolutions. Maria Conchita Alonso appeared phony, and her pseudo-love affair with Walken was nothing but a pathetic emotional plug in a movie that was devoid of any real meaning. I am disappointed that there are movies like this, ruining actor's like Christopher Walken's good name. I could barely sit through it.\">}\n"
     ]
    },
    {
     "ename": "Exception",
     "evalue": "STOP",
     "output_type": "error",
     "traceback": [
      "\u001b[1;31m---------------------------------------------------------------------------\u001b[0m",
      "\u001b[1;31mException\u001b[0m                                 Traceback (most recent call last)",
      "Input \u001b[1;32mIn [33]\u001b[0m, in \u001b[0;36m<cell line: 1>\u001b[1;34m()\u001b[0m\n\u001b[0;32m      1\u001b[0m \u001b[38;5;28;01mfor\u001b[39;00m x \u001b[38;5;129;01min\u001b[39;00m ds_train_new:\n\u001b[0;32m      2\u001b[0m     \u001b[38;5;28mprint\u001b[39m(x)\n\u001b[1;32m----> 3\u001b[0m     \u001b[38;5;28;01mraise\u001b[39;00m \u001b[38;5;167;01mException\u001b[39;00m(\u001b[38;5;124m'\u001b[39m\u001b[38;5;124mSTOP\u001b[39m\u001b[38;5;124m'\u001b[39m)\n",
      "\u001b[1;31mException\u001b[0m: STOP"
     ]
    }
   ],
   "source": [
    "for x in ds_train_new:\n",
    "    print(x)\n",
    "    raise Exception('STOP')"
   ]
  },
  {
   "cell_type": "code",
   "execution_count": null,
   "id": "44de20dd",
   "metadata": {},
   "outputs": [],
   "source": []
  },
  {
   "cell_type": "code",
   "execution_count": null,
   "id": "30886270",
   "metadata": {},
   "outputs": [],
   "source": []
  },
  {
   "cell_type": "code",
   "execution_count": null,
   "id": "88102c7c",
   "metadata": {},
   "outputs": [],
   "source": []
  }
 ],
 "metadata": {
  "kernelspec": {
   "display_name": "Python 3 (ipykernel)",
   "language": "python",
   "name": "python3"
  },
  "language_info": {
   "codemirror_mode": {
    "name": "ipython",
    "version": 3
   },
   "file_extension": ".py",
   "mimetype": "text/x-python",
   "name": "python",
   "nbconvert_exporter": "python",
   "pygments_lexer": "ipython3",
   "version": "3.10.2"
  }
 },
 "nbformat": 4,
 "nbformat_minor": 5
}
